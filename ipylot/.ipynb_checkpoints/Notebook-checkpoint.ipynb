{
 "cells": [
  {
   "cell_type": "markdown",
   "metadata": {},
   "source": [
    "# Steps for running on Anaconda"
   ]
  },
  {
   "cell_type": "code",
   "execution_count": 1,
   "metadata": {},
   "outputs": [],
   "source": [
    "#STEPS FOR RUNNING ON ANACONDA\n",
    "\n",
    "#These only need to be done once. We suggest running this notebook in a new anaconda environment.\n",
    "#Steps below are commented out since they only need to be done once. You may need to restart environment after installing.\n",
    "\n",
    "#!git clone https://github.com/ultralytics/yolov5  # clone repo\n",
    "#%cd yolov5\n",
    "#%pip install -qr requirements.txt\n",
    "#%pip install wandb"
   ]
  },
  {
   "cell_type": "markdown",
   "metadata": {},
   "source": [
    "# Steps for running on Jetson"
   ]
  },
  {
   "cell_type": "markdown",
   "metadata": {},
   "source": [
    "# Code"
   ]
  },
  {
   "cell_type": "code",
   "execution_count": 8,
   "metadata": {},
   "outputs": [
    {
     "name": "stdout",
     "output_type": "stream",
     "text": [
      "Setup complete. Using torch 1.11.0 (NVIDIA GeForce GTX 1080 Ti)\n"
     ]
    }
   ],
   "source": [
    "import cv2\n",
    "import torch\n",
    "import os\n",
    "import shutil\n",
    "import time\n",
    "import numpy as np\n",
    "from IPython.display import Image, clear_output  # to display images\n",
    "\n",
    "print(f\"Setup complete. Using torch {torch.__version__} ({torch.cuda.get_device_properties(0).name if torch.cuda.is_available() else 'CPU'})\")"
   ]
  },
  {
   "cell_type": "code",
   "execution_count": 12,
   "metadata": {},
   "outputs": [
    {
     "name": "stderr",
     "output_type": "stream",
     "text": [
      "Using cache found in C:\\Users\\thwang99/.cache\\torch\\hub\\ultralytics_yolov5_master\n",
      "YOLOv5  2022-6-14 Python-3.8.13 torch-1.11.0 CUDA:0 (NVIDIA GeForce GTX 1080 Ti, 11264MiB)\n",
      "\n",
      "Fusing layers... \n",
      "Model summary: 213 layers, 7037095 parameters, 0 gradients\n",
      "Adding AutoShape... \n"
     ]
    }
   ],
   "source": [
    "# Model\n",
    "model = torch.hub.load('ultralytics/yolov5', 'custom', path='weights/best.pt')"
   ]
  },
  {
   "cell_type": "code",
   "execution_count": 13,
   "metadata": {},
   "outputs": [
    {
     "name": "stdout",
     "output_type": "stream",
     "text": [
      "Distracted Driver Detected...c7 - Talking to Passenger..2.005002975463867 ms\n",
      "Distracted Driver Detected...c1 - Texting - right..2.026440143585205 ms\n",
      "Distracted Driver Detected...c1 - Texting - right..2.0245466232299805 ms\n",
      "Distracted Driver Detected...c6 - Hair and Makeup..2.0579659938812256 ms\n",
      "Distracted Driver Detected...c1 - Texting - right..2.0279531478881836 ms\n",
      "Distracted Driver Detected...c7 - Talking to Passenger..2.0175397396087646 ms\n",
      "Distracted Driver Detected...c7 - Talking to Passenger..2.0247957706451416 ms\n",
      "Distracted Driver Detected...c7 - Talking to Passenger..2.0099966526031494 ms\n",
      "Distracted Driver Detected...c7 - Talking to Passenger..2.239264488220215 ms\n",
      "Distracted Driver Detected...c7 - Talking to Passenger..2.0336055755615234 ms\n",
      "Distracted Driver Detected...c7 - Talking to Passenger..2.0332725048065186 ms\n",
      "Distracted Driver Detected...c7 - Talking to Passenger..2.020890951156616 ms\n",
      "Distracted Driver Detected...c7 - Talking to Passenger..2.014958620071411 ms\n"
     ]
    }
   ],
   "source": [
    "cap = cv2.VideoCapture(0)\n",
    "\n",
    "timebasedrow = time.time()\n",
    "timebasedist = time.time()\n",
    "timerundrow = time.time()\n",
    "timerundist = time.time()\n",
    "\n",
    "while cap.isOpened():\n",
    "    ret, frame = cap.read()\n",
    "\n",
    "    # Make detections \n",
    "    results = model(frame, size=480)\n",
    "    \n",
    "    # print result\n",
    "    info = results.pandas().xyxy[0]\n",
    "    \n",
    "    if len(info) == 0: # no detection \n",
    "        # reset distracted and drowsy timers\n",
    "        timebasedrow = time.time()\n",
    "        timebasedist = time.time()\n",
    "        timerundrow = time.time()\n",
    "        timerundist = time.time()\n",
    "    else: # detected something\n",
    "        if info['class'].values[0] ==0: \n",
    "            # reset distracted and drowsy timers\n",
    "            timebasedrow = time.time()\n",
    "            timebasedist = time.time()\n",
    "            timerundrow = time.time()\n",
    "            timerundist = time.time()\n",
    "        elif info['class'].values[0] > 0 and info['class'].values[0] <= 7:\n",
    "            timerundist = time.time()\n",
    "            if((timerundist-timebasedist)>2):\n",
    "                print(\"Distracted Driver Detected...{}..{} ms\".format(info['name'].values[0],timerundist-timebasedist))\n",
    "                timebasedist = time.time()  # reset distracted timer\n",
    "                timerundist = time.time()         \n",
    "        elif info['class'].values[0] > 7:\n",
    "            timerundrow = time.time()\n",
    "            if((timerundrow-timebasedrow)>2):\n",
    "                print(\"Drowsy Driver Detected...{}..{} ms\".format(info['name'].values[0],timerundrow-timebasedrow))\n",
    "                timebasedrow = time.time() # reset drowsy timer\n",
    "                timerundrow = time.time()\n",
    "        \n",
    "    \n",
    "    # show class on the captured image\n",
    "    cv2.imshow('YOLO', np.squeeze(results.render()))\n",
    "    \n",
    "    if cv2.waitKey(10) & 0xFF == ord('q'):\n",
    "        break\n",
    "cap.release()\n",
    "cv2.destroyAllWindows()"
   ]
  },
  {
   "cell_type": "code",
   "execution_count": null,
   "metadata": {},
   "outputs": [],
   "source": []
  },
  {
   "cell_type": "code",
   "execution_count": null,
   "metadata": {},
   "outputs": [],
   "source": []
  }
 ],
 "metadata": {
  "kernelspec": {
   "display_name": "Python 3 (ipykernel)",
   "language": "python",
   "name": "python3"
  },
  "language_info": {
   "codemirror_mode": {
    "name": "ipython",
    "version": 3
   },
   "file_extension": ".py",
   "mimetype": "text/x-python",
   "name": "python",
   "nbconvert_exporter": "python",
   "pygments_lexer": "ipython3",
   "version": "3.8.13"
  }
 },
 "nbformat": 4,
 "nbformat_minor": 4
}
